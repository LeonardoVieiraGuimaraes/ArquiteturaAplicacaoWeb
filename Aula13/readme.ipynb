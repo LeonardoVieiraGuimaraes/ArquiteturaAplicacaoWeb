{
 "cells": [
  {
   "cell_type": "markdown",
   "id": "45e5c18f",
   "metadata": {},
   "source": [
    "# Objetivo de aprendizagem\n",
    "Esta unidade tem como objetivo ensinar a documentar uma aplicação web orientada a serviços por meio do diagrama da arquitetura, fluxos e documentação de rotas."
   ]
  },
  {
   "cell_type": "markdown",
   "id": "9689122c",
   "metadata": {},
   "source": [
    "## Tópicos de estudo\n",
    "- Diagrama da arquitetura;\n",
    "- Fluxos de solicitação, endpoints e dependências;\n",
    "- Documentando as rotas."
   ]
  },
  {
   "cell_type": "markdown",
   "id": "a403a2d7",
   "metadata": {},
   "source": [
    "## Iniciando os estudos\n",
    "O desenvolvimento de uma aplicação envolve uma ampla gama de conhecimentos, pois é necessário não apenas trabalhar com elementos tecnológicos, mas também com elementos humanos, uma vez que as APIs são desenvolvidas por equipes de desenvolvedores e são utilizadas por outras pessoas."
   ]
  },
  {
   "cell_type": "markdown",
   "id": "e729ccca",
   "metadata": {},
   "source": [
    "Nesse sentido, é importante a divisão que ocorre na arquitetura cliente-servidor, pois permite o desenvolvimento independente em cada um dos lados."
   ]
  },
  {
   "cell_type": "markdown",
   "id": "019d20ad",
   "metadata": {},
   "source": [
    "Além disso, a fim de se ganhar agilidade de um código, é fundamental que ele seja bem documentado para trazer velocidade e impessoalidade no desenvolvimento."
   ]
  },
  {
   "cell_type": "markdown",
   "id": "038ca3d0",
   "metadata": {},
   "source": [
    "Esses são os temas centrais dessa unidade.\n",
    "\n",
    "Seja bem-vindo e bons estudos!"
   ]
  },
  {
   "cell_type": "markdown",
   "id": "bfd3b42b",
   "metadata": {},
   "source": [
    "# Diagrama da Arquitetura\n",
    "\n",
    "---"
   ]
  },
  {
   "cell_type": "markdown",
   "id": "c8594e93",
   "metadata": {},
   "source": [
    "## O que é o modelo cliente-servidor?\n",
    "\n",
    "- Arquitetura mais utilizada em aplicações de rede.\n",
    "- Servidor: fornece e recebe serviços, processa solicitações.\n",
    "- Cliente: realiza solicitações de serviço por meio de uma conexão.\n",
    "- O servidor decide aceitar ou rejeitar solicitações e responde ao cliente."
   ]
  },
  {
   "cell_type": "markdown",
   "id": "e6bfe9f9",
   "metadata": {},
   "source": [
    "## Ilustração do Modelo\n",
    "\n",
    "- Lado cliente: notebooks.\n",
    "- Lado servidor: computador central.\n",
    "- Serviços de internet: representados pelo globo.\n",
    "\n",
    "```\n",
    "[Notebook]   [Notebook]   [Notebook]\n",
    "     |             |             |\n",
    "     +-------------+-------------+\n",
    "                   |\n",
    "             [Servidor]\n",
    "                   |\n",
    "             [Internet/Globo]\n",
    "```"
   ]
  },
  {
   "cell_type": "markdown",
   "id": "2d7987c6",
   "metadata": {},
   "source": [
    "## Componentes segundo Andrews (1991)\n",
    "\n",
    "- Cliente: processo acionador.\n",
    "- Servidor: processo reativo.\n",
    "- Clientes fazem solicitações que desencadeiam reações nos servidores.\n",
    "- Clientes iniciam atividades quando desejam, podendo haver atraso até a solicitação ser atendida.\n",
    "- Servidor aguarda solicitações e reage a elas."
   ]
  },
  {
   "cell_type": "markdown",
   "id": "c9529a2d",
   "metadata": {},
   "source": [
    "## Importância da Separação Cliente-Servidor\n",
    "\n",
    "- Simplifica o servidor e melhora a escalabilidade (Fielding, 2000).\n",
    "- Interface do usuário fica no cliente.\n",
    "- Ambos podem evoluir independentemente, desde que a interface permaneça."
   ]
  },
  {
   "cell_type": "markdown",
   "id": "28f382e8",
   "metadata": {},
   "source": [
    "## Estado e Conectores\n",
    "\n",
    "- Estado do aplicativo é dividido entre cliente e servidor.\n",
    "- Conectores: chamada de procedimento remoto ou middleware orientado a mensagens."
   ]
  },
  {
   "cell_type": "markdown",
   "id": "935eeb3c",
   "metadata": {},
   "source": [
    "## Aprofunde-se\n",
    "\n",
    "**Vídeo:** Arquitetura cliente-servidor  \n",
    "Acesso em: 01/08/2020  \n",
    "Disponível em: https://youtu.be/SEC-tbKa1KQ"
   ]
  },
  {
   "cell_type": "markdown",
   "id": "9ee687d6",
   "metadata": {},
   "source": [
    "# 1. Diagrama da Arquitetura"
   ]
  },
  {
   "cell_type": "markdown",
   "id": "163a0a0f",
   "metadata": {},
   "source": [
    "O modelo cliente-servidor consiste na arquitetura mais utilizada para aplicações baseadas em redes."
   ]
  },
  {
   "cell_type": "markdown",
   "id": "78148a0b",
   "metadata": {},
   "source": [
    "Segundo Fielding (2000):\n",
    "\n",
    "- O lado servidor fornece e recebe um conjunto de serviços e as solicitações sobre eles.\n",
    "- O lado cliente realiza solicitações de serviço por meio de uma conexão.\n",
    "- O servidor decide se aceita ou rejeita a solicitação, enviando uma resposta ao cliente."
   ]
  },
  {
   "cell_type": "markdown",
   "id": "e3e25f41",
   "metadata": {},
   "source": [
    "## Ilustração do Modelo\n",
    "\n",
    "A figura a seguir ilustra esse modelo:\n",
    "\n",
    "- Lado cliente: notebooks.\n",
    "- Lado servidor: computador central.\n",
    "- Serviços de internet: representados pelo globo.\n",
    "\n",
    "```\n",
    "[Notebook]   [Notebook]   [Notebook]\n",
    "     |             |             |\n",
    "     +-------------+-------------+\n",
    "                   |\n",
    "             [Servidor]\n",
    "                   |\n",
    "             [Internet/Globo]\n",
    "```"
   ]
  },
  {
   "cell_type": "markdown",
   "id": "198f9bb0",
   "metadata": {},
   "source": [
    "## Componentes do Modelo (Andrews, 1991)\n",
    "\n",
    "- Cliente: processo acionador.\n",
    "- Servidor: processo reativo.\n",
    "- Clientes realizam solicitações que desencadeiam reações nos servidores.\n",
    "- Clientes iniciam atividade no momento de sua escolha, podendo haver atraso até a solicitação ser atendida.\n",
    "- Servidor espera solicitações e reage a elas."
   ]
  },
  {
   "cell_type": "markdown",
   "id": "8e7c4aca",
   "metadata": {},
   "source": [
    "## Saiba mais\n",
    "\n",
    "Segundo Fielding (2000):\n",
    "\n",
    "- A separação entre cliente e servidor simplifica o servidor e melhora a escalabilidade.\n",
    "- Move toda a funcionalidade da interface do usuário para o cliente.\n",
    "- Permite que ambos evoluam independentemente, desde que a interface não seja alterada."
   ]
  },
  {
   "cell_type": "markdown",
   "id": "91e4c4bf",
   "metadata": {},
   "source": [
    "## Estado e Conectores\n",
    "\n",
    "- O estado do aplicativo é dividido entre cliente e servidor.\n",
    "- Frequentemente implementado por chamada de procedimento remoto ou middleware orientado a mensagens."
   ]
  },
  {
   "cell_type": "markdown",
   "id": "bc15864f",
   "metadata": {},
   "source": [
    "## Aprofunde-se\n",
    "\n",
    "**Vídeo:** Arquitetura cliente-servidor  \n",
    "Acesso em: 01/08/2020  \n",
    "Disponível em: https://youtu.be/SEC-tbKa1KQ"
   ]
  },
  {
   "cell_type": "markdown",
   "id": "48bbdee6",
   "metadata": {},
   "source": [
    "# 1.1 Sistemas e Modelo Cliente-Servidor em Camadas"
   ]
  },
  {
   "cell_type": "markdown",
   "id": "365a2ac5",
   "metadata": {},
   "source": [
    "Um sistema em camadas consiste em uma organização hierárquica em que cada camada fornece serviços à camada hierarquicamente superior a ela."
   ]
  },
  {
   "cell_type": "markdown",
   "id": "03a7370d",
   "metadata": {},
   "source": [
    "Segundo Fielding (2000):\n",
    "\n",
    "- O sistema em camadas é considerado um estilo puro.\n",
    "- Em sistemas de rede, normalmente é combinado ao modelo cliente-servidor.\n",
    "- Os modelos mais comuns são as arquiteturas em duas camadas e três camadas."
   ]
  },
  {
   "cell_type": "markdown",
   "id": "f3253900",
   "metadata": {},
   "source": [
    "## Vantagens dos Sistemas Multicamadas\n",
    "\n",
    "- Redução do acoplamento entre as diferentes camadas.\n",
    "- Ocultação das camadas internas das exteriores (exceto a adjacente).\n",
    "- Melhora a capacidade de evolução e reutilização."
   ]
  },
  {
   "cell_type": "markdown",
   "id": "757bec4c",
   "metadata": {},
   "source": [
    "## Exemplo de Utilização\n",
    "\n",
    "- Processamento de protocolos de comunicação em camadas (TCP/IP, OSI).\n",
    "- Principal desvantagem: sobrecarga e latência no processamento de dados, reduzindo o desempenho percebido pelo usuário (Fielding, 2000)."
   ]
  },
  {
   "cell_type": "markdown",
   "id": "0e290c49",
   "metadata": {},
   "source": [
    "## Componentes Adicionais: Proxy e Gateway\n",
    "\n",
    "- Proxy: atua como servidor compartilhado para um ou mais clientes, encaminhando solicitações para o servidor (Shapiro, 1986).\n",
    "- Gateway: parece um servidor normal para clientes/proxies, mas encaminha solicitações para servidores de camada interna, podendo converter as solicitações."
   ]
  },
  {
   "cell_type": "markdown",
   "id": "8106f9b3",
   "metadata": {},
   "source": [
    "## Recursos Adicionais e Camadas\n",
    "\n",
    "- Componentes mediadores (proxy, gateway) podem ser acrescentados em várias camadas.\n",
    "- Possibilita recursos como balanceamento, verificação de segurança, entre outros (Fielding, 2000)."
   ]
  },
  {
   "cell_type": "markdown",
   "id": "bb8d4d77",
   "metadata": {},
   "source": [
    "## Modelos em Camadas\n",
    "\n",
    "- Arquitetura cliente-servidor pode ter duas, três ou várias camadas.\n",
    "- O modelo em duas camadas é o mais simples.\n",
    "- No próximo infográfico: vantagens e desvantagens do modelo em duas camadas."
   ]
  },
  {
   "cell_type": "markdown",
   "id": "bf76f8ef",
   "metadata": {},
   "source": [
    "# Arquitetura Cliente-Servidor"
   ]
  },
  {
   "cell_type": "markdown",
   "id": "cb14739b",
   "metadata": {},
   "source": [
    "A arquitetura cliente-servidor propõe distribuir as tarefas e cargas de trabalho entre aqueles responsáveis por fornecer recursos e serviços (servidores) e aqueles que fazem a requisição de serviços (clientes)."
   ]
  },
  {
   "cell_type": "markdown",
   "id": "b0822d89",
   "metadata": {},
   "source": [
    "## Comunicação\n",
    "\n",
    "Em geral, clientes e servidores se comunicam por meio de uma rede de computadores distintos."
   ]
  },
  {
   "cell_type": "markdown",
   "id": "04e1e59c",
   "metadata": {},
   "source": [
    "## Cliente\n",
    "\n",
    "- Realiza requisições para os servidores, aguarda e recebe respostas.\n",
    "- Pode se conectar a mais de um servidor por vez.\n",
    "- Utiliza software de aplicação específico para comunicação com servidores."
   ]
  },
  {
   "cell_type": "markdown",
   "id": "344d4507",
   "metadata": {},
   "source": [
    "## Servidor\n",
    "\n",
    "- Atua de forma responsiva: só age após ser solicitado.\n",
    "- Espera pedidos dos clientes, atende e responde.\n",
    "- Pode se conectar com outros servidores para fornecer recursos de rede e interagir com usuários finais."
   ]
  },
  {
   "cell_type": "markdown",
   "id": "1148608a",
   "metadata": {},
   "source": [
    "## Vantagens da Arquitetura Cliente-Servidor\n",
    "\n",
    "- Permite distribuir responsabilidades entre computadores independentes conectados em rede.\n",
    "- Facilita a manutenção: cada lado pode ser reparado, atualizado ou realocado sem afetar a arquitetura.\n",
    "- Segurança: dados ficam no servidor, que possui controles de segurança mais robustos."
   ]
  },
  {
   "cell_type": "markdown",
   "id": "9f279c71",
   "metadata": {},
   "source": [
    "## Desvantagens do Modelo Cliente-Servidor\n",
    "\n",
    "- Os clientes apenas podem solicitar serviços aos servidores.\n",
    "- Caso o servidor receba muitas solicitações simultâneas, pode haver sobrecarga.\n",
    "- O modelo não possui a robustez de uma rede baseada em P2P."
   ]
  },
  {
   "cell_type": "markdown",
   "id": "ad40d60f",
   "metadata": {},
   "source": [
    "Segundo Andrews (1991):\n",
    "\n",
    "- O modelo cliente-servidor em camadas é uma solução para gerenciar identidade em sistemas distribuídos de grande escala.\n",
    "- Conhecimento completo de todos os servidores seria proibitivamente caro.\n",
    "- Em servidores com arquitetura em camadas, os serviços são geridos por intermediários, não diretamente por cada cliente."
   ]
  },
  {
   "cell_type": "markdown",
   "id": "5d6fa232",
   "metadata": {},
   "source": [
    "## Aprofunde-se\n",
    "\n",
    "Para aprofundar seus conhecimentos sobre a arquitetura cliente-servidor em diferentes camadas, recomendo o seguinte material em vídeo, que detalha as arquiteturas em duas, três e múltiplas camadas."
   ]
  },
  {
   "cell_type": "markdown",
   "id": "2a2fed1c",
   "metadata": {},
   "source": [
    "# 2. Fluxos de Solicitação, Endpoints e Dependências"
   ]
  },
  {
   "cell_type": "markdown",
   "id": "3229a0e9",
   "metadata": {},
   "source": [
    "O modo mais comum de integração entre sistemas e usuários é por meio de uma API (Application Programming Interface).\n",
    "\n",
    "- APIs possibilitam a troca de informações entre diferentes serviços.\n",
    "- Integram serviços, empresas e parceiros."
   ]
  },
  {
   "cell_type": "markdown",
   "id": "5768faa9",
   "metadata": {},
   "source": [
    "## Integração e Equipe\n",
    "\n",
    "- Integração bem-sucedida depende do esforço de toda a equipe de desenvolvimento.\n",
    "- A equipe é responsável por integrar diferentes sistemas."
   ]
  },
  {
   "cell_type": "markdown",
   "id": "eebeed7c",
   "metadata": {},
   "source": [
    "## Documentação de API\n",
    "\n",
    "- A documentação correta é indispensável para o sucesso da integração.\n",
    "- Permite que qualquer membro da equipe implemente soluções rapidamente, mesmo sem conhecimento integral da aplicação."
   ]
  },
  {
   "cell_type": "markdown",
   "id": "455b511f",
   "metadata": {},
   "source": [
    "## Foco da Documentação\n",
    "\n",
    "- Deve detalhar recursos e endpoints disponíveis.\n",
    "- Endpoints são os pontos de acesso (URIs) para os recursos da API.\n",
    "\n",
    "**Aprofunde-se:**  \n",
    "Artigo: [Request endpoints](https://cloud.google.com/storage/docs/request-endpoints?hl=pt-br#console)"
   ]
  },
  {
   "cell_type": "markdown",
   "id": "ae25df6a",
   "metadata": {},
   "source": [
    "## Descrições Essenciais em uma API\n",
    "\n",
    "- Descrever a funcionalidade provida.\n",
    "- Listar parâmetros de entrada (obrigatórios, opcionais e tipos).\n",
    "- Documentar o formato de resposta (JSON, XML, etc).\n",
    "- Especificar métodos HTTP aceitos pelos endpoints.\n",
    "- Descrever possíveis valores de retorno (sucesso e erro)."
   ]
  },
  {
   "cell_type": "markdown",
   "id": "7da65153",
   "metadata": {},
   "source": [
    "## Boas Práticas e Ferramentas\n",
    "\n",
    "- Boas práticas de documentação trazem agilidade ao desenvolvimento.\n",
    "- Existem diversas soluções tecnológicas para auxiliar nesse processo.\n",
    "\n",
    "**Aprofunde-se:**  \n",
    "Artigo: [Boas práticas em documentação de uma API](https://cloud.google.com/apis/design/naming_convention?hl=pt)"
   ]
  },
  {
   "cell_type": "markdown",
   "id": "bc9848ff",
   "metadata": {},
   "source": [
    "## Ferramentas Tecnológicas\n",
    "\n",
    "O material em vídeo a seguir apresenta algumas das principais ferramentas tecnológicas para documentação de APIs."
   ]
  },
  {
   "cell_type": "markdown",
   "id": "20ae37ad",
   "metadata": {},
   "source": [
    "# 3. Documentando as Rotas"
   ]
  },
  {
   "cell_type": "markdown",
   "id": "9e1d6d1e",
   "metadata": {},
   "source": [
    "Para compreender a importância da documentação de rotas, é necessário revisitar a arquitetura REST.\n",
    "\n",
    "Segundo Fielding (2000), REST (Representational State Transfer) é uma abstração dos elementos de um sistema de hipermídia distribuído. REST ignora detalhes de implementação e foca nos papéis dos componentes, restrições de interação e interpretação de dados."
   ]
  },
  {
   "cell_type": "markdown",
   "id": "93335bb3",
   "metadata": {},
   "source": [
    "## Estilos Norteadores da Arquitetura REST\n",
    "\n",
    "- **Cliente-servidor:** separa interface do usuário do armazenamento de dados, melhorando portabilidade, escalabilidade e simplificando o servidor.\n",
    "- **Sem estado:** cada solicitação do cliente deve conter todas as informações necessárias; o servidor não armazena contexto.\n",
    "- **Armazenamento em cache:** respostas podem ser rotuladas para cache, melhorando eficiência da rede.\n",
    "- **Interface uniforme:** todos os componentes interagem por uma interface padronizada, facilitando evolução, mas pode limitar necessidades específicas.\n",
    "- **Sistema em camadas:** a arquitetura pode ser composta por camadas hierárquicas, promovendo independência e limitando a complexidade."
   ]
  },
  {
   "cell_type": "markdown",
   "id": "74c65c36",
   "metadata": {},
   "source": [
    "**Aprofunde-se:**  \n",
    "Vídeo: [Entendendo o REST](https://youtu.be/7Cbd8WBGrq4)  \n",
    "Acesso em: 03/08/2020"
   ]
  },
  {
   "cell_type": "markdown",
   "id": "c241f165",
   "metadata": {},
   "source": [
    "## Verbos HTTP e Interface Uniforme\n",
    "\n",
    "Reflita: Roy Fielding, criador do REST, não recomendou métodos específicos, apenas enfatizou a importância de uma interface uniforme."
   ]
  },
  {
   "cell_type": "markdown",
   "id": "1b216e74",
   "metadata": {},
   "source": [
    "### Principais Métodos HTTP\n",
    "\n",
    "| Método | Descrição |\n",
    "|--------|-----------|\n",
    "| GET    | Solicita uma representação do recurso especificado. Apenas recupera dados. |\n",
    "| HEAD   | Solicita uma resposta idêntica ao GET, mas sem o corpo da resposta. Útil para metainformações. |\n",
    "| POST   | Solicita que o servidor aceite a entidade incluída como um novo subordinado do recurso identificado pelo URI. |\n",
    "| PUT    | Solicita que a entidade seja armazenada no URI fornecido. Modifica ou cria o recurso. |\n",
    "| DELETE | Exclui o recurso especificado. |\n",
    "| TRACE  | Ecoa a solicitação recebida para diagnóstico de alterações feitas por intermediários. |"
   ]
  },
  {
   "cell_type": "markdown",
   "id": "4c8f8862",
   "metadata": {},
   "source": [
    "### Exemplos de Utilização dos Métodos HTTP\n",
    "\n",
    "| Método | URL | Descrição |\n",
    "|--------|-----|-----------|\n",
    "| GET | http://localhost.8080/contacts | Retorna uma lista com todos os contatos. |\n",
    "| GET | http://localhost.8080/contacts/10 | Retorna o contato de ID 10 ou erro 404 caso não encontrado. |\n",
    "| GET | http://localhost.8080/contacts/paulo | Retorna contatos com “Paulo” no nome. |\n",
    "| POST | http://localhost.8080/contacts | Adiciona novo contato (dados no corpo em JSON). |\n",
    "| PUT | http://localhost.8080/contacts/3 | Atualiza o contato de ID 3 (dados no corpo em JSON). |\n",
    "| DELETE | http://localhost.8080/contacts/15 | Apaga o contato ID 15. |"
   ]
  },
  {
   "cell_type": "markdown",
   "id": "159da772",
   "metadata": {},
   "source": [
    "# Considerações Finais\n",
    "\n",
    "Nesta unidade, você aprendeu a importância da arquitetura cliente-servidor para o desenvolvimento de APIs baseadas na arquitetura REST. Além disso, entendeu que essa arquitetura favorece o desenvolvimento independente de cada um dos lados na arquitetura cliente-servidor. Também compreendeu a importância da documentação no desenvolvimento de uma API, além dos métodos HTTP, que o auxiliarão em suas construções."
   ]
  },
  {
   "cell_type": "markdown",
   "id": "80438ca3",
   "metadata": {},
   "source": [
    "## O que é Middleware?\n",
    "\n",
    "**Middleware** é um software intermediário que atua entre diferentes sistemas, aplicações ou camadas de uma arquitetura, facilitando a comunicação, integração e gerenciamento de dados entre eles.\n",
    "\n",
    "- Em aplicações web, pode ser usado para autenticação, registro de logs, tratamento de erros, roteamento de requisições e transformação de dados.\n",
    "- Permite que funcionalidades comuns sejam implementadas de forma centralizada, sem duplicação em cada componente da aplicação.\n",
    "\n",
    "**Exemplo:**  \n",
    "Em uma API, um middleware pode interceptar uma requisição HTTP para verificar se o usuário está autenticado antes de permitir o acesso ao recurso solicitado."
   ]
  }
 ],
 "metadata": {
  "language_info": {
   "name": "python"
  }
 },
 "nbformat": 4,
 "nbformat_minor": 5
}
